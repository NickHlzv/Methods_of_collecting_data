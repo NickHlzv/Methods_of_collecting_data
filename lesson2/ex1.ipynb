{
 "cells": [
  {
   "cell_type": "code",
   "execution_count": 1,
   "metadata": {
    "collapsed": true
   },
   "outputs": [],
   "source": [
    "# -*- coding: utf-8 -*-\n",
    "from bs4 import BeautifulSoup as bs\n",
    "import requests\n",
    "import re\n",
    "import pandas as pd\n",
    "import json\n",
    "\n"
   ]
  },
  {
   "cell_type": "code",
   "execution_count": 2,
   "metadata": {
    "pycharm": {
     "name": "#%%\n"
    }
   },
   "outputs": [],
   "source": [
    "#Функция проходит по всем возможным страницам и собирает вакансии\n",
    "def parser_hh(vacancy):\n",
    "\n",
    "    vacancy_date = []\n",
    "\n",
    "    params = {\n",
    "        'text': vacancy,\n",
    "        'page': ''\n",
    "    }\n",
    "\n",
    "    headers = {\n",
    "        'User-Agent': 'Mozilla/5.0 (X11; Linux x86_64; rv:69.0) Gecko/20100101 Firefox/69.0'\n",
    "    }\n",
    "\n",
    "    link = 'https://hh.ru/search/vacancy'\n",
    "\n",
    "    html = requests.get(link, params=params, headers=headers)\n",
    "\n",
    "    if html.ok:\n",
    "        parsed_html = bs(html.text,'html.parser')\n",
    "\n",
    "        page_block = parsed_html.find('div', {'data-qa': 'pager-block'})\n",
    "        if not page_block:\n",
    "            last_page = 1\n",
    "        else:\n",
    "            last_page = page_block.find_all('a', {'class': 'bloko-button'})\n",
    "            last_page = int(last_page[len(last_page)-2].find('span').getText())\n",
    "\n",
    "    for page in range(0, last_page):\n",
    "        params['page'] = page\n",
    "        html = requests.get(link, params=params, headers=headers)\n",
    "\n",
    "        if html.ok:\n",
    "            parsed_html = bs(html.text,'html.parser')\n",
    "\n",
    "            vacancy_items = parsed_html.find_all('div', {'class': 'vacancy-serp-item'})\n",
    "            #Здесь вызывается функция и она парсит одну страницу, потом следующую и т.д\n",
    "            for item in vacancy_items:\n",
    "                vacancy_date.append(parser_item_hh(item))\n",
    "\n",
    "    return vacancy_date"
   ]
  },
  {
   "cell_type": "code",
   "execution_count": 3,
   "metadata": {
    "pycharm": {
     "name": "#%%\n"
    }
   },
   "outputs": [],
   "source": [
    "#Функция парсит вакансии и отбирает нужные данные/атрибуты, \n",
    "#в качестве входного параметра берутся вакансии одной страницы\n",
    "def parser_item_hh(item):\n",
    "\n",
    "    vacancy_dict = {}\n",
    "\n",
    "    vacancy_name = item.find('a', {'data-qa': 'vacancy-serp__vacancy-title'}) \\\n",
    "            .getText().replace(u'\\xa0', u' ')\n",
    "\n",
    "    vacancy_dict['vacancy_name'] = vacancy_name\n",
    "\n",
    "    company_name = item.find('a', {'data-qa': 'vacancy-serp__vacancy-employer'})\n",
    "\n",
    "    if company_name:\n",
    "        company_name = company_name.getText().replace(u'\\xa0', u' ')\n",
    "    vacancy_dict['company_name'] = company_name\n",
    "\n",
    "    city = item.find('span', {'data-qa': 'vacancy-serp__vacancy-address'}) \\\n",
    "        .getText() \\\n",
    "        .split(', ')[0]\n",
    "\n",
    "    vacancy_dict['city'] = city\n",
    "\n",
    "        # salary\n",
    "    salary = item.find('span', {'data-qa': 'vacancy-serp__vacancy-compensation'})\n",
    "    if not salary:\n",
    "        salary_min = None\n",
    "        salary_max = None\n",
    "        salary_currency = None\n",
    "    else:\n",
    "        salary = salary.getText().replace(u'\\u202f', u'')\n",
    "        salary = salary.replace('–', '')\n",
    "        salary = re.split(r'\\s', salary)\n",
    "\n",
    "        if salary[0] == 'до':\n",
    "            salary_min = None\n",
    "            salary_max = int(salary[1])\n",
    "        elif salary[0] == 'от':\n",
    "            salary_min = int(salary[1])\n",
    "            salary_max = None\n",
    "        else:\n",
    "            salary_min = int(salary[0])\n",
    "            salary_max = int(salary[2])\n",
    "\n",
    "        salary_currency = salary[len(salary)-1]\n",
    "\n",
    "    vacancy_dict['salary_min'] = salary_min\n",
    "    vacancy_dict['salary_max'] = salary_max\n",
    "    vacancy_dict['salary_currency'] = salary_currency\n",
    "\n",
    "    vacancy_link = item.find('a', {'data-qa': 'vacancy-serp__vacancy-title'})['href']\n",
    "\n",
    "    vacancy_dict['vacancy_link'] = vacancy_link\n",
    "    vacancy_dict['site'] = 'hh.ru'\n",
    "\n",
    "    return vacancy_dict"
   ]
  },
  {
   "cell_type": "code",
   "execution_count": 11,
   "metadata": {
    "pycharm": {
     "name": "#%%\n"
    }
   },
   "outputs": [],
   "source": [
    "def parser_superjob(vacancy):\n",
    "    vacancy_date = []\n",
    "\n",
    "    params = {\n",
    "        'keywords': vacancy, \\\n",
    "        'profession_only': '1', \\\n",
    "        'geo[c][0]': '15', \\\n",
    "        'geo[c][1]': '1', \\\n",
    "        'geo[c][2]': '9', \\\n",
    "        'page': ''\n",
    "    }\n",
    "\n",
    "    headers = {'User-Agent':\n",
    "                   'Mozilla/5.0 (Windows NT 10.0; Win64; x64) AppleWebKit/537.36 (KHTML, like Gecko) Chrome/92.0.4515.131 Safari/537.36'\n",
    "               }\n",
    "\n",
    "    link = 'https://www.superjob.ru/vacancy/search/'\n",
    "\n",
    "    html = requests.get(link, params=params, headers=headers)\n",
    "\n",
    "    if html.ok:\n",
    "        parsed_html = bs(html.text, 'html.parser')\n",
    "\n",
    "        page_block = parsed_html.find('a', {'class': 'f-test-button-dalshe'})\n",
    "    if not page_block:\n",
    "        last_page = 1\n",
    "    else:\n",
    "        last_page = int(page_block.previous_sibling.find_all('span')[-2].getText())\n",
    "\n",
    "    for page in range(1, last_page + 1):\n",
    "        params['page'] = page\n",
    "        html = requests.get(link, params=params, headers=headers)\n",
    "\n",
    "        if html.ok:\n",
    "            parsed_html = bs(html.text, 'html.parser')\n",
    "            vacancy_items = parsed_html.find_all('div', {'class': 'f-test-vacancy-item'})\n",
    "\n",
    "            for item in vacancy_items:\n",
    "                vacancy_date.append(parser_item_superjob(item))\n",
    "\n",
    "    return vacancy_date"
   ]
  },
  {
   "cell_type": "code",
   "execution_count": 5,
   "metadata": {
    "pycharm": {
     "name": "#%%\n"
    }
   },
   "outputs": [],
   "source": [
    "def parser_item_superjob(item):\n",
    "    vacancy_dict = {}\n",
    "\n",
    "    # vacancy_name\n",
    "    vacancy_name = item.find_all('a')\n",
    "    if len(vacancy_name) > 1:\n",
    "        vacancy_name = vacancy_name[-2].getText()\n",
    "    else:\n",
    "        vacancy_name = vacancy_name[0].getText()\n",
    "\n",
    "    # company_name\n",
    "    company_name = item.find('span', {'class': 'f-test-text-vacancy-item-company-name'})\n",
    "\n",
    "    if company_name:\n",
    "        company_name = company_name.getText()\n",
    "    else:\n",
    "       company_name = None\n",
    "\n",
    "\n",
    "    # city\n",
    "    company_location = item.find('span', {'class': 'f-test-text-company-item-location'}) \\\n",
    "        .findChildren()[2] \\\n",
    "        .getText() \\\n",
    "        .split(',')\n",
    "\n",
    "\n",
    "    # salary\n",
    "    salary = item.find('span', {'class': 'f-test-text-company-item-salary'}) \\\n",
    "        .findChildren()\n",
    "    if not salary:\n",
    "        salary_min = None\n",
    "        salary_max = None\n",
    "        salary_currency = None\n",
    "    else:\n",
    "        salary_elems = salary[0].getText().replace(u'\\xa0', u' ').split(' ')\n",
    "        salary_currency = salary_elems[-1]\n",
    "        is_check_salary = item.find('span', {'class': 'f-test-text-company-item-salary'}).getText()\n",
    "        if is_check_salary != 'По договорённости':\n",
    "            is_check_salary = is_check_salary.replace(u'\\xa0', u' ').split(' ', 1)\n",
    "            if is_check_salary[0] == 'до' or len(salary) == 2:\n",
    "                if salary_elems[1].isdigit() and salary_elems[2].isdigit():\n",
    "                    salary_min = None\n",
    "                    salary_max = int(salary_elems[1] + salary_elems[2])\n",
    "                elif salary_elems[1].isdigit() and not salary_elems[2].isdigit():\n",
    "                    salary_max = int(salary_elems[1])\n",
    "            elif is_check_salary[0] == 'от':\n",
    "                if salary_elems[1].isdigit() and salary_elems[2].isdigit():\n",
    "                    salary_min = int(salary_elems[1] + salary_elems[2])\n",
    "                elif salary_elems[1].isdigit() and not salary_elems[2].isdigit():\n",
    "                    salary_min = int(salary_elems[1])\n",
    "                salary_max = None\n",
    "            else:\n",
    "                if len(salary_elems) > 3:\n",
    "                    if salary_elems[1].isdigit():\n",
    "                        salary_min = int(salary_elems[0] + salary_elems[1])\n",
    "                    else:\n",
    "                        salary_min = int(salary_elems[0])\n",
    "                    if salary_elems[-2].isdigit() and salary_elems[-3].isdigit():\n",
    "                        salary_max = int(salary_elems[-3] + salary_elems[-2])\n",
    "                    else:\n",
    "                        salary_max = int(salary_elems[-2])\n",
    "                else:\n",
    "                    if salary_elems[1].isdigit():\n",
    "                        salary_min = int(salary_elems[0] + salary_elems[1])\n",
    "                        salary_max = int(salary_elems[0] + salary_elems[1])\n",
    "                    else:\n",
    "                        salary_min = int(salary_elems[0])\n",
    "                        salary_max = int(salary_elems[0])\n",
    "        else:\n",
    "            salary_min = None\n",
    "            salary_max = None\n",
    "            salary_currency = None\n",
    "\n",
    "\n",
    "    # link\n",
    "    vacancy_link = item.find_all('a')\n",
    "\n",
    "    if len(vacancy_link) > 1:\n",
    "        vacancy_link = vacancy_link[-2]['href']\n",
    "    else:\n",
    "        vacancy_link = vacancy_link[0]['href']\n",
    "\n",
    "    if company_name != vacancy_name:\n",
    "        vacancy_dict['vacancy_name'] = vacancy_name\n",
    "        vacancy_dict['company_name'] = company_name\n",
    "        vacancy_dict['city'] = company_location[0]\n",
    "        vacancy_dict['salary_min'] = salary_min\n",
    "        vacancy_dict['salary_max'] = salary_max\n",
    "        vacancy_dict['salary_currency'] = salary_currency\n",
    "        vacancy_dict['vacancy_link'] = f'https://www.superjob.ru{vacancy_link}'\n",
    "        vacancy_dict['site'] = 'www.superjob.ru'\n",
    "        return vacancy_dict"
   ]
  },
  {
   "cell_type": "code",
   "execution_count": 6,
   "metadata": {
    "pycharm": {
     "name": "#%%\n"
    }
   },
   "outputs": [],
   "source": [
    "def parser_vacancy(vacancy):\n",
    "\n",
    "    vacancy_data = []\n",
    "    vacancy_data.extend(parser_hh(vacancy))\n",
    "    vacancy_data.extend(parser_superjob(vacancy))\n",
    "    vacancy_data = filter(None, vacancy_data)\n",
    "\n",
    "    df = pd.DataFrame(vacancy_data)\n",
    "\n",
    "    return df"
   ]
  },
  {
   "cell_type": "code",
   "execution_count": 7,
   "metadata": {
    "pycharm": {
     "name": "#%%\n"
    }
   },
   "outputs": [],
   "source": [
    "df = parser_vacancy('python')\n",
    "result = df.to_json('collected_data.json', orient='records', force_ascii=False)"
   ]
  },
  {
   "cell_type": "code",
   "execution_count": 8,
   "metadata": {
    "pycharm": {
     "name": "#%%\n"
    }
   },
   "outputs": [
    {
     "data": {
      "text/plain": "                                      vacancy_name           company_name  \\\n0                    Backend разработчик на Python                 Gigsty   \n1                          Senior Python developer     КА Натальи Зотовой   \n2                               Python-разработчик               Сбер. IT   \n3                            Junior Data Scientist         ООО IHS Global   \n4                     Backend разработчик (Python)        ИП CyberTech.kz   \n..                                             ...                    ...   \n810                     Инженер-программист Python  ФГБУ ФЦМН ФМБА России   \n811                               Python developer             КонсалтПро   \n812          Middle, senior (C++, Python), инженер                 FITTIN   \n813                     Backend-разработчик Python             Турчанинов   \n814  Аналитик в отдел планирования (SQL, Python/R)              Мегаполис   \n\n                city  salary_min  salary_max salary_currency  \\\n0    Санкт-Петербург    250000.0    300000.0            руб.   \n1             Москва         NaN      5500.0             USD   \n2             Москва         NaN         NaN            None   \n3              Минск         NaN         NaN            None   \n4             Алматы    300000.0    600000.0             KZT   \n..               ...         ...         ...             ...   \n810           Москва     80000.0         NaN            руб.   \n811           Москва    160000.0    200000.0            руб.   \n812          Воронеж     80000.0    100000.0            руб.   \n813             Тула     40000.0         NaN            руб.   \n814           Москва         NaN         NaN            None   \n\n                                          vacancy_link             site  \n0    https://voronezh.hh.ru/vacancy/47103960?from=v...            hh.ru  \n1    https://voronezh.hh.ru/vacancy/47139730?from=v...            hh.ru  \n2    https://voronezh.hh.ru/vacancy/47084105?from=v...            hh.ru  \n3    https://voronezh.hh.ru/vacancy/47146916?from=v...            hh.ru  \n4    https://voronezh.hh.ru/vacancy/47039260?from=v...            hh.ru  \n..                                                 ...              ...  \n810  https://www.superjob.ru/vakansii/inzhener-prog...  www.superjob.ru  \n811  https://www.superjob.ru/vakansii/python-develo...  www.superjob.ru  \n812  https://www.superjob.ru/vakansii/middle-384209...  www.superjob.ru  \n813  https://www.superjob.ru/vakansii/backend-razra...  www.superjob.ru  \n814  https://www.superjob.ru/vakansii/analitik-v-ot...  www.superjob.ru  \n\n[815 rows x 8 columns]",
      "text/html": "<div>\n<style scoped>\n    .dataframe tbody tr th:only-of-type {\n        vertical-align: middle;\n    }\n\n    .dataframe tbody tr th {\n        vertical-align: top;\n    }\n\n    .dataframe thead th {\n        text-align: right;\n    }\n</style>\n<table border=\"1\" class=\"dataframe\">\n  <thead>\n    <tr style=\"text-align: right;\">\n      <th></th>\n      <th>vacancy_name</th>\n      <th>company_name</th>\n      <th>city</th>\n      <th>salary_min</th>\n      <th>salary_max</th>\n      <th>salary_currency</th>\n      <th>vacancy_link</th>\n      <th>site</th>\n    </tr>\n  </thead>\n  <tbody>\n    <tr>\n      <th>0</th>\n      <td>Backend разработчик на Python</td>\n      <td>Gigsty</td>\n      <td>Санкт-Петербург</td>\n      <td>250000.0</td>\n      <td>300000.0</td>\n      <td>руб.</td>\n      <td>https://voronezh.hh.ru/vacancy/47103960?from=v...</td>\n      <td>hh.ru</td>\n    </tr>\n    <tr>\n      <th>1</th>\n      <td>Senior Python developer</td>\n      <td>КА Натальи Зотовой</td>\n      <td>Москва</td>\n      <td>NaN</td>\n      <td>5500.0</td>\n      <td>USD</td>\n      <td>https://voronezh.hh.ru/vacancy/47139730?from=v...</td>\n      <td>hh.ru</td>\n    </tr>\n    <tr>\n      <th>2</th>\n      <td>Python-разработчик</td>\n      <td>Сбер. IT</td>\n      <td>Москва</td>\n      <td>NaN</td>\n      <td>NaN</td>\n      <td>None</td>\n      <td>https://voronezh.hh.ru/vacancy/47084105?from=v...</td>\n      <td>hh.ru</td>\n    </tr>\n    <tr>\n      <th>3</th>\n      <td>Junior Data Scientist</td>\n      <td>ООО IHS Global</td>\n      <td>Минск</td>\n      <td>NaN</td>\n      <td>NaN</td>\n      <td>None</td>\n      <td>https://voronezh.hh.ru/vacancy/47146916?from=v...</td>\n      <td>hh.ru</td>\n    </tr>\n    <tr>\n      <th>4</th>\n      <td>Backend разработчик (Python)</td>\n      <td>ИП CyberTech.kz</td>\n      <td>Алматы</td>\n      <td>300000.0</td>\n      <td>600000.0</td>\n      <td>KZT</td>\n      <td>https://voronezh.hh.ru/vacancy/47039260?from=v...</td>\n      <td>hh.ru</td>\n    </tr>\n    <tr>\n      <th>...</th>\n      <td>...</td>\n      <td>...</td>\n      <td>...</td>\n      <td>...</td>\n      <td>...</td>\n      <td>...</td>\n      <td>...</td>\n      <td>...</td>\n    </tr>\n    <tr>\n      <th>810</th>\n      <td>Инженер-программист Python</td>\n      <td>ФГБУ ФЦМН ФМБА России</td>\n      <td>Москва</td>\n      <td>80000.0</td>\n      <td>NaN</td>\n      <td>руб.</td>\n      <td>https://www.superjob.ru/vakansii/inzhener-prog...</td>\n      <td>www.superjob.ru</td>\n    </tr>\n    <tr>\n      <th>811</th>\n      <td>Python developer</td>\n      <td>КонсалтПро</td>\n      <td>Москва</td>\n      <td>160000.0</td>\n      <td>200000.0</td>\n      <td>руб.</td>\n      <td>https://www.superjob.ru/vakansii/python-develo...</td>\n      <td>www.superjob.ru</td>\n    </tr>\n    <tr>\n      <th>812</th>\n      <td>Middle, senior (C++, Python), инженер</td>\n      <td>FITTIN</td>\n      <td>Воронеж</td>\n      <td>80000.0</td>\n      <td>100000.0</td>\n      <td>руб.</td>\n      <td>https://www.superjob.ru/vakansii/middle-384209...</td>\n      <td>www.superjob.ru</td>\n    </tr>\n    <tr>\n      <th>813</th>\n      <td>Backend-разработчик Python</td>\n      <td>Турчанинов</td>\n      <td>Тула</td>\n      <td>40000.0</td>\n      <td>NaN</td>\n      <td>руб.</td>\n      <td>https://www.superjob.ru/vakansii/backend-razra...</td>\n      <td>www.superjob.ru</td>\n    </tr>\n    <tr>\n      <th>814</th>\n      <td>Аналитик в отдел планирования (SQL, Python/R)</td>\n      <td>Мегаполис</td>\n      <td>Москва</td>\n      <td>NaN</td>\n      <td>NaN</td>\n      <td>None</td>\n      <td>https://www.superjob.ru/vakansii/analitik-v-ot...</td>\n      <td>www.superjob.ru</td>\n    </tr>\n  </tbody>\n</table>\n<p>815 rows × 8 columns</p>\n</div>"
     },
     "execution_count": 8,
     "metadata": {},
     "output_type": "execute_result"
    }
   ],
   "source": [
    "df\n",
    "\n"
   ]
  }
 ],
 "metadata": {
  "kernelspec": {
   "display_name": "Python 3 (ipykernel)",
   "language": "python",
   "name": "python3"
  },
  "language_info": {
   "codemirror_mode": {
    "name": "ipython",
    "version": 2
   },
   "file_extension": ".py",
   "mimetype": "text/x-python",
   "name": "python",
   "nbconvert_exporter": "python",
   "pygments_lexer": "ipython2",
   "version": "2.7.6"
  }
 },
 "nbformat": 4,
 "nbformat_minor": 1
}